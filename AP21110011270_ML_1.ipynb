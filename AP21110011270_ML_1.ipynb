{
  "nbformat": 4,
  "nbformat_minor": 0,
  "metadata": {
    "colab": {
      "provenance": []
    },
    "kernelspec": {
      "name": "python3",
      "display_name": "Python 3"
    },
    "language_info": {
      "name": "python"
    }
  },
  "cells": [
    {
      "cell_type": "code",
      "execution_count": null,
      "metadata": {
        "id": "oEDEUWpFZSG4"
      },
      "outputs": [],
      "source": [
        "import numpy as np\n",
        "\n",
        "# Read data from iris_data.txt\n",
        "with open(\"iris_data.txt\", \"r\") as file:\n",
        "    iris_data = file.readlines()\n",
        "\n",
        "# Parse data and extract values, skipping lines with missing values\n",
        "data = [line.strip().split(\",\") for line in iris_data if line.strip()]\n",
        "sepal_length = np.array([float(entry[0]) for entry in data])\n",
        "sepal_width = np.array([float(entry[1]) for entry in data])\n",
        "petal_length = np.array([float(entry[2]) for entry in data])\n",
        "petal_width = np.array([float(entry[3]) for entry in data])\n",
        "classes = [entry[4] for entry in data]\n",
        "\n",
        "# Calculate statistical summary for each attribute\n",
        "def calculate_summary(attribute, attribute_name):\n",
        "    min_value = np.min(attribute)\n",
        "    max_value = np.max(attribute)\n",
        "    mean_value = np.mean(attribute)\n",
        "    std_deviation = np.std(attribute)\n",
        "    print(f\"{attribute_name} - Min: {min_value}, Max: {max_value}, Mean: {mean_value}, SD: {std_deviation}\")\n",
        "\n",
        "# Print statistical summary for each attribute\n",
        "calculate_summary(sepal_length, \"Sepal Length\")\n",
        "calculate_summary(sepal_width, \"Sepal Width\")\n",
        "calculate_summary(petal_length, \"Petal Length\")\n",
        "calculate_summary(petal_width, \"Petal Width\")\n",
        "\n",
        "# Class correlation with respect to sepal length and petal length\n",
        "class_correlation_data = list(zip(sepal_length, petal_length, classes))\n",
        "\n",
        "# Calculate the class correlation\n",
        "def calculate_class_correlation(class1, class2, class_data):\n",
        "    class1_data = [(sl, pl) for sl, pl, cls in class_data if cls == class1]\n",
        "    class2_data = [(sl, pl) for sl, pl, cls in class_data if cls == class2]\n",
        "\n",
        "    correlation = np.corrcoef(np.transpose([d[0] for d in class1_data]), np.transpose([d[1] for d in class2_data]))[0, 1]\n",
        "    return correlation\n",
        "\n",
        "# Print class correlation for each pair\n",
        "class_pairs = [(\"Iris-setosa\", \"Iris-versicolor\"), (\"Iris-versicolor\", \"Iris-virginica\"), (\"Iris-virginica\", \"Iris-setosa\")]\n",
        "for pair in class_pairs:\n",
        "    class1, class2 = pair\n",
        "    correlation = calculate_class_correlation(class1, class2, class_correlation_data)\n",
        "    print(f\"Class Correlation ({class1} - {class2}): {correlation}\")"
      ]
    }
  ]
}